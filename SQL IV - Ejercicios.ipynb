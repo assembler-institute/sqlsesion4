{
 "cells": [
  {
   "cell_type": "markdown",
   "id": "c6ed2d0b-5a22-4e64-a88b-522ac32e736e",
   "metadata": {},
   "source": [
    "# SQL IV: Exercises"
   ]
  },
  {
   "cell_type": "code",
   "execution_count": 1,
   "id": "4209c850-d6d4-4be9-a894-7ba1f6d0186c",
   "metadata": {},
   "outputs": [],
   "source": [
    "#Imports\n",
    "import pandas as pd\n",
    "import mysql.connector\n",
    "\n",
    "#SQL Function\n",
    "def sql(_query, _con):\n",
    "    \n",
    "    cursor = _con.cursor()\n",
    "    cursor.execute(_query)\n",
    "    \n",
    "    cols = cursor.column_names\n",
    "    data = cursor.fetchall()\n",
    "    \n",
    "    _con.commit()\n",
    "    \n",
    "    df = pd.DataFrame(data, columns=cols)\n",
    "    \n",
    "    return df\n",
    "\n",
    "#Connections\n",
    "dw = mysql.connector.connect(\n",
    "  host=\"iosqlde.onairnet.xyz\",\n",
    "  user=\"assemblerReader\",\n",
    "  password=\"!Reader2022\",\n",
    "  database=\"sqlCourse\"\n",
    ")"
   ]
  },
  {
   "cell_type": "markdown",
   "id": "7873811d-a89d-48cc-932c-9c4ea2ccf2c0",
   "metadata": {},
   "source": [
    "## 1.- Replicate the table\n",
    "\n",
    "Have a look to the table rawFlights\n",
    "\n",
    "### A - Table Analysis\n",
    "\n",
    "Create a table analysis, describe the data type of each column in the original table, and repeat the analysis for the destination tables.\n",
    "\n",
    "### B - Create the relational model to replicate the tables\n",
    "\n",
    "Create a relational model involving the tables needed to replicate the final model (represent all the fields on each table).\n",
    "\n",
    "### C - Create the query\n",
    "\n",
    "Implement the query to replicate the table"
   ]
  },
  {
   "cell_type": "code",
   "execution_count": null,
   "id": "76dce80c-69b2-4a07-8fcf-16f2c2340d5e",
   "metadata": {},
   "outputs": [],
   "source": [
    "command = \"\"\"\n",
    "\n",
    "\"\"\"\n",
    "sql(command, db)"
   ]
  },
  {
   "cell_type": "markdown",
   "id": "3ae72862-8a13-4cbf-9621-ac0aeedd81c7",
   "metadata": {},
   "source": [
    "## 2.- Airbnb\n",
    "\n",
    "For this exercise you will need to use the tables from airbnb\n",
    "\n",
    "### A - Create the relational model to replicate the tables\n",
    "\n",
    "Create a relational model involving the tables needed to replicate the final model (represent all the fields on each table).\n",
    "\n",
    "### B - Perform the following queries\n",
    "\n",
    "1. Join all the tables using the relates keys\n",
    "2. Create a query with the following columns: Listing ID, Listing Title, Year and one column for each month containing the average price for that month.\n",
    "3. Get the amount of listings of each host and the average price of each (you can't use the field calculated_host_listings_count)\n",
    "4. Get the average type, the amount of listings and reviews of each property type in each neighborhood\n",
    "5. Get the distribution of reviews on each neighborhood, have in mind you need to calculate a proportion with the amount of listings. Each type of listing have to be on a separated column with the average reviews amount plus a total column"
   ]
  }
 ],
 "metadata": {
  "kernelspec": {
   "display_name": "Python 3 (ipykernel)",
   "language": "python",
   "name": "python3"
  },
  "language_info": {
   "codemirror_mode": {
    "name": "ipython",
    "version": 3
   },
   "file_extension": ".py",
   "mimetype": "text/x-python",
   "name": "python",
   "nbconvert_exporter": "python",
   "pygments_lexer": "ipython3",
   "version": "3.9.7"
  }
 },
 "nbformat": 4,
 "nbformat_minor": 5
}
